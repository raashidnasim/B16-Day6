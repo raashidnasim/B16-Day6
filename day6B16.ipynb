{
 "cells": [
  {
   "cell_type": "code",
   "execution_count": 1,
   "metadata": {},
   "outputs": [
    {
     "name": "stdout",
     "output_type": "stream",
     "text": [
      "['ravi', 'sam', 'vivek', 'ejaj', 'rahul', 'ram']\n"
     ]
    }
   ],
   "source": [
    "students = ['ravi','sam','vivek','ejaj','rahul','ram']\n",
    "print(students)"
   ]
  },
  {
   "cell_type": "code",
   "execution_count": 2,
   "metadata": {},
   "outputs": [
    {
     "name": "stdout",
     "output_type": "stream",
     "text": [
      "ravi\n",
      "sam\n",
      "vivek\n",
      "ejaj\n",
      "rahul\n",
      "ram\n"
     ]
    }
   ],
   "source": [
    "for a in students:\n",
    "    print(a)"
   ]
  },
  {
   "cell_type": "code",
   "execution_count": 5,
   "metadata": {},
   "outputs": [
    {
     "name": "stdout",
     "output_type": "stream",
     "text": [
      "appreciate your work ravi\n",
      "appreciate your work sam\n",
      "appreciate your work vivek\n",
      "appreciate your work ejaj\n",
      "appreciate your work rahul\n",
      "appreciate your work ram\n"
     ]
    }
   ],
   "source": [
    "for z in students:\n",
    "    print(f\"appreciate your work {z}\")"
   ]
  },
  {
   "cell_type": "code",
   "execution_count": 7,
   "metadata": {},
   "outputs": [
    {
     "name": "stdout",
     "output_type": "stream",
     "text": [
      "appreciate your work ravi\n",
      "see you soon ravi. \n",
      "\n",
      "appreciate your work sam\n",
      "see you soon sam. \n",
      "\n",
      "appreciate your work vivek\n",
      "see you soon vivek. \n",
      "\n",
      "appreciate your work ejaj\n",
      "see you soon ejaj. \n",
      "\n",
      "appreciate your work rahul\n",
      "see you soon rahul. \n",
      "\n",
      "appreciate your work ram\n",
      "see you soon ram. \n",
      "\n"
     ]
    }
   ],
   "source": [
    "for z in students:\n",
    "    print(f\"appreciate your work {z}\")\n",
    "    print(f\"see you soon {z}. \\n\")\n",
    "    "
   ]
  },
  {
   "cell_type": "code",
   "execution_count": 9,
   "metadata": {},
   "outputs": [
    {
     "name": "stdout",
     "output_type": "stream",
     "text": [
      "appreciate your work ravi\n",
      "see you soon ravi. \n",
      "\n",
      "appreciate your work sam\n",
      "see you soon sam. \n",
      "\n",
      "appreciate your work vivek\n",
      "see you soon vivek. \n",
      "\n",
      "appreciate your work ejaj\n",
      "see you soon ejaj. \n",
      "\n",
      "appreciate your work rahul\n",
      "see you soon rahul. \n",
      "\n",
      "appreciate your work ram\n",
      "see you soon ram. \n",
      "\n",
      "Thank you\n"
     ]
    }
   ],
   "source": [
    "for z in students:\n",
    "    print(f\"appreciate your work {z}\")\n",
    "    print(f\"see you soon {z}. \\n\")\n",
    "print(\"Thank you\")"
   ]
  },
  {
   "cell_type": "code",
   "execution_count": 10,
   "metadata": {},
   "outputs": [
    {
     "name": "stdout",
     "output_type": "stream",
     "text": [
      "1\n",
      "2\n",
      "3\n",
      "4\n",
      "5\n",
      "6\n",
      "7\n",
      "8\n",
      "9\n",
      "10\n",
      "11\n",
      "12\n",
      "13\n",
      "14\n",
      "15\n",
      "16\n",
      "17\n",
      "18\n",
      "19\n",
      "20\n",
      "21\n",
      "22\n",
      "23\n",
      "24\n",
      "25\n",
      "26\n",
      "27\n",
      "28\n",
      "29\n",
      "30\n"
     ]
    }
   ],
   "source": [
    "for a in range(1,31):\n",
    "    print(a)"
   ]
  },
  {
   "cell_type": "code",
   "execution_count": 13,
   "metadata": {},
   "outputs": [
    {
     "name": "stdout",
     "output_type": "stream",
     "text": [
      "[1, 2, 3, 4, 5, 6, 7, 8, 9, 10]\n"
     ]
    }
   ],
   "source": [
    "#   list range\n",
    "\n",
    "b = list(range(1,11))\n",
    "print(b)"
   ]
  },
  {
   "cell_type": "code",
   "execution_count": 14,
   "metadata": {},
   "outputs": [
    {
     "name": "stdout",
     "output_type": "stream",
     "text": [
      "2\n",
      "4\n",
      "6\n",
      "8\n",
      "10\n"
     ]
    }
   ],
   "source": [
    "# first 5  even number using list\n",
    "for a in range(2,11,2):\n",
    "    print(a)"
   ]
  },
  {
   "cell_type": "code",
   "execution_count": 17,
   "metadata": {},
   "outputs": [
    {
     "name": "stdout",
     "output_type": "stream",
     "text": [
      "[2, 4, 6, 8, 10]\n"
     ]
    }
   ],
   "source": [
    "# first 5  even number using for\n",
    "\n",
    "c = list(range(2,11,2))\n",
    "print(c)"
   ]
  },
  {
   "cell_type": "code",
   "execution_count": null,
   "metadata": {},
   "outputs": [],
   "source": []
  }
 ],
 "metadata": {
  "kernelspec": {
   "display_name": "Python 3",
   "language": "python",
   "name": "python3"
  },
  "language_info": {
   "codemirror_mode": {
    "name": "ipython",
    "version": 3
   },
   "file_extension": ".py",
   "mimetype": "text/x-python",
   "name": "python",
   "nbconvert_exporter": "python",
   "pygments_lexer": "ipython3",
   "version": "3.7.6"
  }
 },
 "nbformat": 4,
 "nbformat_minor": 4
}
